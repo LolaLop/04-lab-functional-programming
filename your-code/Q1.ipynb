{
 "cells": [
  {
   "cell_type": "markdown",
   "metadata": {},
   "source": [
    "In the cell below, create a Python function that wraps your previous solution for the Bag of Words lab.\n",
    "\n",
    "Requirements:\n",
    "\n",
    "1. Your function should accept the following parameters:\n",
    "    * `docs` [REQUIRED] - array of document paths.\n",
    "    * `stop_words` [OPTIONAL] - array of stop words. The default value is an empty array.\n",
    "\n",
    "1. Your function should return a Python object that contains the following:\n",
    "    * `bag_of_words` - array of strings of normalized unique words in the corpus.\n",
    "    * `term_freq` - array of the term-frequency vectors."
   ]
  },
  {
   "cell_type": "code",
   "execution_count": 14,
   "metadata": {},
   "outputs": [],
   "source": [
    "# Import required libraries\n",
    "import numpy as np\n",
    "import string\n",
    "\n",
    "# Define function\n",
    "def get_bow_from_docs(docs, stop_words=[]):\n",
    "    \n",
    "    # In the function, first define the variables you will use such as `corpus`, `bag_of_words`, and `term_freq`.\n",
    "    corpus = []\n",
    "    bag_of_words = []\n",
    "    term_freq = []\n",
    "    \n",
    "    \n",
    "    \"\"\"\n",
    "    Loop `docs` and read the content of each doc into a string in `corpus`.\n",
    "    Remember to convert the doc content to lowercases and remove punctuation.\n",
    "    \"\"\"\n",
    "    for doc in docs:\n",
    "        #read the content of the file and add it to corpus\n",
    "        file = open(doc,'r')\n",
    "        text= file.read().replace('\\n', '')\n",
    "        \n",
    "        #convert to lowercases\n",
    "        text = text.lower()\n",
    "        \n",
    "        #split into wordy by white space\n",
    "        corpus += text.split()\n",
    "        \n",
    "        #close the file\n",
    "        file.close()\n",
    " \n",
    "      \n",
    "    #remove punctuation from each word\n",
    "    table = str.maketrans('', '', string.punctuation)\n",
    "    corpus = [word.translate(table) for word in corpus]\n",
    "    \n",
    "    \n",
    "    \"\"\"\n",
    "    Loop `corpus`. Append the terms in each doc into the `bag_of_words` array. The terms in `bag_of_words` \n",
    "    should be unique which means before adding each term you need to check if it's already added to the array.\n",
    "    In addition, check if each term is in the `stop_words` array. Only append the term to `bag_of_words`\n",
    "    if it is not a stop word.\n",
    "    \"\"\"\n",
    "    #convert the list with the stop words to a set\n",
    "    stop_words_set = set(stop_words)\n",
    "    \n",
    "    for word in corpus:\n",
    "        if word in stop_words_set:\n",
    "            next\n",
    "        else:\n",
    "            bag_of_words.append(word)\n",
    "    \n",
    "    bag_of_words = np.array(bag_of_words)\n",
    "    bag_of_words = list(np.unique(bag_of_words))\n",
    "    \n",
    "    \"\"\"\n",
    "    Loop `corpus` again. For each doc string, count the number of occurrences of each term in `bag_of_words`. \n",
    "    Create an array for each doc's term frequency and append it to `term_freq`.\n",
    "    \"\"\"\n",
    "    for word in bag_of_words:\n",
    "        term_freq.append(corpus.count(word))    \n",
    "    \n",
    "    # Now return your output as an object\n",
    "    return {\n",
    "        \"bag_of_words\": bag_of_words,\n",
    "        \"term_freq\": term_freq\n",
    "    }\n",
    "    "
   ]
  },
  {
   "cell_type": "markdown",
   "metadata": {},
   "source": [
    "Test your function without stop words. You should see the output like below:\n",
    "\n",
    "```{'bag_of_words': ['ironhack', 'is', 'cool', 'i', 'love', 'am', 'a', 'student', 'at'], 'term_freq': [[1, 1, 1, 0, 0, 0, 0, 0, 0], [1, 0, 0, 1, 1, 0, 0, 0, 0], [1, 0, 0, 1, 0, 1, 1, 1, 1]]}```"
   ]
  },
  {
   "cell_type": "code",
   "execution_count": 15,
   "metadata": {},
   "outputs": [
    {
     "name": "stdout",
     "output_type": "stream",
     "text": [
      "{'bag_of_words': [], 'term_freq': []}\n"
     ]
    }
   ],
   "source": [
    "# Define doc paths array\n",
    "docs = []\n",
    "\n",
    "# Obtain BoW from your function\n",
    "bow = get_bow_from_docs(docs)\n",
    "\n",
    "# Print BoW\n",
    "print(bow)"
   ]
  },
  {
   "cell_type": "markdown",
   "metadata": {},
   "source": [
    "If your attempt above is successful, nice work done!\n",
    "\n",
    "Now test your function again with the stop words. In the previous lab we defined the stop words in a large array. In this lab, we'll import the stop words from Scikit-Learn."
   ]
  },
  {
   "cell_type": "code",
   "execution_count": 16,
   "metadata": {},
   "outputs": [
    {
     "name": "stdout",
     "output_type": "stream",
     "text": [
      "frozenset({'him', 'anything', 'last', 'twenty', 'alone', 'hereafter', 'fifteen', 'nobody', 'system', 'whole', 'rather', 'among', 'must', 'sincere', 'enough', 'yourself', 'some', 'found', 'front', 'noone', 'seeming', 'how', 'other', 'toward', 'mine', 'might', 'indeed', 'only', 'when', 'around', 'each', 'five', 'all', 'bottom', 'himself', 'sometime', 'whence', 'most', 'any', 'could', 'another', 'mostly', 'side', 'where', 'below', 'beside', 'de', 'this', 'otherwise', 'fill', 'before', 'those', 'it', 'becomes', 'eight', 'seemed', 'down', 'wherein', 'but', 'up', 'beforehand', 'always', 'through', 'full', 'whom', 'still', 'ours', 'her', 'his', 'often', 'not', 'onto', 'thereafter', 'there', 'into', 'behind', 'hence', 'thru', 'everywhere', 'will', 'hasnt', 'be', 'would', 'may', 'since', 'cry', 'are', 'also', 'never', 'becoming', 'for', 'back', 'can', 'had', 'he', 'its', 'with', 'again', 'nor', 'my', 'via', 'against', 'seem', 'un', 'above', 'become', 'twelve', 'towards', 'to', 'whereby', 'after', 'thereby', 'therefore', 'except', 'very', 'three', 'serious', 'namely', 'our', 'thence', 'almost', 'whether', 'find', 'whereupon', 'within', 'besides', 'detail', 'we', 'ltd', 'herself', 'whereafter', 'anyone', 'neither', 'ie', 'least', 'mill', 'by', 'whoever', 'a', 'perhaps', 'at', 'anyway', 'is', 'describe', 'them', 'move', 'because', 'too', 'couldnt', 'ten', 'am', 'nevertheless', 'part', 'beyond', 'on', 'if', 'nowhere', 'these', 'yourselves', 'under', 'here', 'wherever', 'sometimes', 'been', 'forty', 'hereupon', 'why', 'put', 'keep', 'made', 'first', 'go', 'six', 'afterwards', 'of', 'ever', 'their', 'please', 'formerly', 'seems', 'off', 'an', 'myself', 'fifty', 'meanwhile', 'own', 'con', 'about', 'now', 'somewhere', 'empty', 'us', 'throughout', 'in', 'everything', 'everyone', 'such', 'cant', 'take', 'you', 'and', 'former', 'well', 'or', 'more', 'further', 'itself', 'anyhow', 're', 'nine', 'themselves', 'moreover', 'both', 'was', 'once', 'latter', 'though', 'sixty', 'being', 'out', 'whose', 'every', 'few', 'anywhere', 'amoungst', 'nothing', 'done', 'hereby', 'than', 'even', 'your', 'which', 'during', 'over', 'that', 'yours', 'none', 'whatever', 'amount', 'they', 'one', 'who', 'while', 'therein', 'due', 'hundred', 'should', 'however', 'much', 'call', 'same', 'from', 'along', 'elsewhere', 'give', 'someone', 'no', 'something', 'yet', 'somehow', 'eg', 'whither', 'inc', 'what', 'get', 'have', 'then', 'either', 'many', 'less', 'bill', 'next', 'cannot', 'became', 'hers', 'thick', 'co', 'between', 'already', 'amongst', 'has', 'me', 'etc', 'four', 'were', 'per', 'show', 'several', 'across', 'else', 'thus', 'thin', 'top', 'so', 'whenever', 'see', 'i', 'although', 'whereas', 'others', 'as', 'together', 'name', 'she', 'interest', 'fire', 'eleven', 'the', 'herein', 'thereupon', 'latterly', 'do', 'upon', 'without', 'ourselves', 'third', 'two', 'until'})\n"
     ]
    },
    {
     "name": "stderr",
     "output_type": "stream",
     "text": [
      "/Applications/anaconda3/lib/python3.7/site-packages/sklearn/utils/deprecation.py:144: FutureWarning: The sklearn.feature_extraction.stop_words module is  deprecated in version 0.22 and will be removed in version 0.24. The corresponding classes / functions should instead be imported from sklearn.feature_extraction.text. Anything that cannot be imported from sklearn.feature_extraction.text is now part of the private API.\n",
      "  warnings.warn(message, FutureWarning)\n"
     ]
    }
   ],
   "source": [
    "from sklearn.feature_extraction import stop_words\n",
    "print(stop_words.ENGLISH_STOP_WORDS)"
   ]
  },
  {
   "cell_type": "markdown",
   "metadata": {},
   "source": [
    "You should have seen a large list of words that looks like:\n",
    "\n",
    "```frozenset({'across', 'mine', 'cannot', ...})```\n",
    "\n",
    "`frozenset` is a type of Python object that is immutable. In this lab you can use it just like an array without conversion."
   ]
  },
  {
   "cell_type": "markdown",
   "metadata": {},
   "source": [
    "Next, test your function with supplying `stop_words.ENGLISH_STOP_WORDS` as the second parameter."
   ]
  },
  {
   "cell_type": "code",
   "execution_count": 17,
   "metadata": {},
   "outputs": [
    {
     "name": "stdout",
     "output_type": "stream",
     "text": [
      "{'bag_of_words': [], 'term_freq': []}\n"
     ]
    }
   ],
   "source": [
    "bow = get_bow_from_docs(docs, stop_words.ENGLISH_STOP_WORDS)\n",
    "\n",
    "print(bow)"
   ]
  },
  {
   "cell_type": "markdown",
   "metadata": {},
   "source": [
    "You should have seen:\n",
    "\n",
    "```{'bag_of_words': ['ironhack', 'cool', 'love', 'student'], 'term_freq': [[1, 1, 0, 0], [1, 0, 1, 0], [1, 0, 0, 1]]}```"
   ]
  },
  {
   "cell_type": "code",
   "execution_count": null,
   "metadata": {
    "collapsed": true
   },
   "outputs": [],
   "source": []
  }
 ],
 "metadata": {
  "kernelspec": {
   "display_name": "Python 3",
   "language": "python",
   "name": "python3"
  },
  "language_info": {
   "codemirror_mode": {
    "name": "ipython",
    "version": 3
   },
   "file_extension": ".py",
   "mimetype": "text/x-python",
   "name": "python",
   "nbconvert_exporter": "python",
   "pygments_lexer": "ipython3",
   "version": "3.7.6"
  }
 },
 "nbformat": 4,
 "nbformat_minor": 2
}
